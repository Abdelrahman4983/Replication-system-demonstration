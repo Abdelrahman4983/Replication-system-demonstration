{
 "cells": [
  {
   "cell_type": "code",
   "execution_count": null,
   "metadata": {},
   "outputs": [],
   "source": [
    "!pip install jsonlines"
   ]
  },
  {
   "cell_type": "code",
   "execution_count": null,
   "metadata": {},
   "outputs": [],
   "source": [
    "!pip install spacy"
   ]
  },
  {
   "cell_type": "code",
   "execution_count": null,
   "metadata": {},
   "outputs": [],
   "source": [
    "import jsonlines\n",
    "training_data = []\n",
    "ent = []\n",
    "\n",
    "testing_data = []\n",
    "\n",
    "# Open the JSONL file\n",
    "with jsonlines.open('/home/abdelrahman/Desktop/Dr. He/Replication-system-demonstration/data/training_data.jsonl') as reader:\n",
    "    for data in reader:\n",
    "        text = data['text']\n",
    "        entities = data['entities']\n",
    "        for i in entities:\n",
    "            lb = i['label']\n",
    "            s = i['start_offset']\n",
    "            e = i['end_offset']\n",
    "            ent.append((s,e,lb))\n",
    "        training_data.append((text, {\"entities\":ent}))\n",
    "        ent=[]\n",
    "\n",
    "# Open the JSONL file\n",
    "with jsonlines.open('/home/abdelrahman/Desktop/Dr. He/Replication-system-demonstration/data/test.jsonl') as reader:\n",
    "    for data in reader:\n",
    "        text = data['text']\n",
    "        entities = data['entities']\n",
    "        for i in entities:\n",
    "            lb = i['label']\n",
    "            s = i['start_offset']\n",
    "            e = i['end_offset']\n",
    "            ent.append((s,e,lb))\n",
    "        testing_data.append((text, {\"entities\":ent}))\n",
    "        ent=[]\n"
   ]
  },
  {
   "cell_type": "code",
   "execution_count": null,
   "metadata": {},
   "outputs": [],
   "source": [
    "training_data[0]"
   ]
  },
  {
   "cell_type": "code",
   "execution_count": null,
   "metadata": {},
   "outputs": [],
   "source": [
    "testing_data[0]"
   ]
  },
  {
   "cell_type": "code",
   "execution_count": null,
   "metadata": {},
   "outputs": [],
   "source": [
    "import spacy\n",
    "import random\n",
    "from spacy.training.example import Example\n",
    "\n",
    "# Load a blank spacy model\n",
    "nlp = spacy.blank(\"en\")\n",
    "\n",
    "# Define the labels (ENTITY types)\n",
    "labels = ['ITEM', 'EXPERIMNET']\n",
    "\n",
    "# Add the NER component to the pipeline\n",
    "ner = nlp.add_pipe('ner', last=True)\n",
    "\n",
    "# Add labels to the NER component\n",
    "for label in labels:\n",
    "    ner.add_label(label)\n",
    "\n",
    "# initialize the model for training\n",
    "nlp.begin_training()\n",
    "\n",
    "# Training loop\n",
    "for _ in range(200):\n",
    "    losses = {}\n",
    "    random.shuffle(training_data)\n",
    "    for text, annotations in training_data:\n",
    "        doc = nlp.make_doc(text)\n",
    "        example = Example.from_dict(doc, annotations)\n",
    "        nlp.update([example], drop=0.5, losses=losses)\n",
    "    print(\"Loss:\", losses.get('ner'))\n",
    "\n",
    "# Save the trained model to disk\n",
    "nlp.to_disk(\"/home/abdelrahman/Desktop/Dr. He/Replication-system-demonstration/models/custom_ner_model\")\n"
   ]
  },
  {
   "cell_type": "code",
   "execution_count": null,
   "metadata": {},
   "outputs": [],
   "source": [
    "import spacy\n",
    "# Load the trained model\n",
    "nlp = spacy.load(\"/home/abdelrahman/Desktop/Dr. He/Replication-system-demonstration/models/custom_ner_model\")\n",
    "\n",
    "# Define a function to extract items and experiments from an abstract\n",
    "def extract_items_and_experiments(abstract_text):\n",
    "    doc = nlp(abstract_text)\n",
    "    items = [ent.text for ent in doc.ents if ent.label_ == \"ITEM\"]\n",
    "    experiments = [ent.text for ent in doc.ents if ent.label_ == \"EXPERIMNET\"]\n",
    "    return items, experiments\n",
    "\n",
    "# Example abstract text\n",
    "abstract_text = testing_data[0][0]\n",
    "# Extract items and experiments\n",
    "items, experiments = extract_items_and_experiments(abstract_text)\n",
    "\n",
    "# Print the results\n",
    "print('text', abstract_text.strip())\n",
    "print(\"Items:\", items)\n",
    "print(\"Experiments:\", experiments)"
   ]
  },
  {
   "cell_type": "code",
   "execution_count": null,
   "metadata": {},
   "outputs": [],
   "source": []
  }
 ],
 "metadata": {
  "kernelspec": {
   "display_name": "base",
   "language": "python",
   "name": "python3"
  },
  "language_info": {
   "codemirror_mode": {
    "name": "ipython",
    "version": 3
   },
   "file_extension": ".py",
   "mimetype": "text/x-python",
   "name": "python",
   "nbconvert_exporter": "python",
   "pygments_lexer": "ipython3",
   "version": "3.11.4"
  },
  "orig_nbformat": 4
 },
 "nbformat": 4,
 "nbformat_minor": 2
}
